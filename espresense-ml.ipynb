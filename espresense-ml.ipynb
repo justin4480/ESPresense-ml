{
 "cells": [
  {
   "cell_type": "code",
   "execution_count": 44,
   "metadata": {},
   "outputs": [],
   "source": [
    "import pandas as pd\n",
    "import numpy as np\n",
    "from influxdb import InfluxDBClient\n",
    "from sklearn.cluster import KMeans\n",
    "from sklearn.preprocessing import StandardScaler\n",
    "from sklearn.decomposition import PCA\n",
    "import matplotlib.pyplot as plt\n",
    "import seaborn as sns\n",
    "from dateutil.parser import parse\n",
    "from dateutil import tz\n",
    "\n",
    "sns.set(style=\"whitegrid\")\n",
    "sns.set(font_scale=0.7)"
   ]
  },
  {
   "cell_type": "code",
   "execution_count": 75,
   "metadata": {},
   "outputs": [
    {
     "name": "stdout",
     "output_type": "stream",
     "text": [
      "y\n",
      "LivingRoom    207\n",
      "Hallway0      124\n",
      "BedroomJK     115\n",
      "DiningRoom    106\n",
      "Hallway1      103\n",
      "Playroom       98\n",
      "Hallway2       93\n",
      "Office         86\n",
      "BedroomS       78\n",
      "BedroomCC      74\n",
      "Kitchen        73\n",
      "Name: count, dtype: int64\n"
     ]
    }
   ],
   "source": [
    "class InfluxDB:\n",
    "    def __init__(self, url: str, port: int, username: str, password: str,\n",
    "                 basestations: list, beacon: str, classification: str,\n",
    "                 startdatetime: str = None, enddatetime: str = None):\n",
    "        self.client = InfluxDBClient(url, port, username, password)\n",
    "        self.basestations = basestations\n",
    "        self.beacon = beacon\n",
    "        self.classification = classification\n",
    "        self.timefilter = '1=1'\n",
    "        self.timefilter += f\"\\n\\t\\tAND time >= '{InfluxDB.convert_to_rfc3339(startdatetime)}'\" if startdatetime else ''\n",
    "        self.timefilter += f\"\\n\\t\\tAND time <= '{InfluxDB.convert_to_rfc3339(enddatetime)}'\" if enddatetime else ''\n",
    "\n",
    "    @property\n",
    "    def df_basestation_beacon_values(self):\n",
    "        where = ''.join([f\"\\n\\t\\t    OR entity_id = 'mqtt_{self.beacon}_{basestation}_raw'\" for basestation in self.basestations])\n",
    "        query = f'''\n",
    "            SELECT friendly_name_str as basestation, value as distance\n",
    "            FROM homeassistant.autogen.m\n",
    "            WHERE {self.timefilter}\n",
    "                AND (\n",
    "                    1<>1 {where}\n",
    "                )\n",
    "        '''\n",
    "        df = pd.DataFrame(self.client.query(query).get_points())\n",
    "        df.time = pd.to_datetime(df.time)\n",
    "        return df\n",
    "\n",
    "    @property\n",
    "    def df_classifications(self):\n",
    "        query = f'''\n",
    "            SELECT state as y\n",
    "            FROM homeassistant.autogen.state\n",
    "            WHERE {self.timefilter}\n",
    "                AND entity_id = '{self.classification}'\n",
    "        '''\n",
    "        df = pd.DataFrame(self.client.query(query).get_points())\n",
    "        df.time = pd.to_datetime(df.time)\n",
    "        return df\n",
    "\n",
    "    def get_Xy(self):\n",
    "        self.df = (\n",
    "            pd.concat([self.df_basestation_beacon_values, self.df_classifications], axis=0)\n",
    "            .pivot(index=['time', 'y'], columns='basestation', values='distance')\n",
    "            .fillna(method='ffill')\n",
    "            .reset_index('y')\n",
    "            .fillna(method='ffill')\n",
    "            .drop(np.nan, axis=1)\n",
    "            .dropna()\n",
    "            .query('y != \"None\"')\n",
    "        )\n",
    "        self.X = self.df.drop('y', axis=1)\n",
    "        self.y = self.df.y\n",
    "        return self.X, self.y\n",
    "\n",
    "    def show_basestation_strength(self):\n",
    "        fig, ax = plt.subplots(3, figsize=(10, 3), sharex=True, sharey=True)\n",
    "        data = self.df_basestation_beacon_values\n",
    "        for i, basestation in enumerate(data.basestation.unique()):\n",
    "            sns.lineplot(\n",
    "                data=data.loc[data.basestation == basestation],\n",
    "                x='time', y='distance',\n",
    "                linewidth=0.5, ax=ax[i]\n",
    "            ).set_title(basestation)\n",
    "        plt.show()\n",
    "\n",
    "    @staticmethod\n",
    "    def convert_to_rfc3339(date_string):\n",
    "        dt = parse(date_string)\n",
    "        dt = dt.astimezone(tz.UTC)\n",
    "        return dt.strftime('%Y-%m-%dT%H:%M:%SZ')\n",
    "\n",
    "influx = InfluxDB(\n",
    "    url='192.168.50.134',\n",
    "    port=8086,\n",
    "    username='homeassistant',\n",
    "    password='homeassistant',\n",
    "    basestations=['office', 'livingroom', 'bedroomjk'],\n",
    "    beacon='iphonejd',\n",
    "    classification='jd_iphone_room_training_data',\n",
    "    startdatetime='2023-07-17T21:51:00',\n",
    ")\n",
    "\n",
    "X, y = influx.get_Xy()\n",
    "print(y.value_counts())"
   ]
  },
  {
   "cell_type": "code",
   "execution_count": 135,
   "metadata": {},
   "outputs": [
    {
     "name": "stdout",
     "output_type": "stream",
     "text": [
      "Cross-validation accuracy scores: [0.56465517 0.56465517 0.66233766 0.62770563 0.62770563]\n",
      "Mean cross-validation accuracy: 0.6094118525153008\n"
     ]
    }
   ],
   "source": [
    "from sklearn.preprocessing import PolynomialFeatures\n",
    "from sklearn.linear_model import LogisticRegression\n",
    "from sklearn.pipeline import make_pipeline\n",
    "from sklearn.model_selection import cross_val_score, StratifiedKFold\n",
    "\n",
    "lr = LogisticRegression(max_iter=1000, class_weight='balanced')\n",
    "scores = cross_val_score(lr, X, y, cv=StratifiedKFold(n_splits=5))\n",
    "print(\"Cross-validation accuracy scores:\", scores)\n",
    "print(\"Mean cross-validation accuracy:\", scores.mean())"
   ]
  },
  {
   "cell_type": "code",
   "execution_count": 137,
   "metadata": {},
   "outputs": [
    {
     "name": "stdout",
     "output_type": "stream",
     "text": [
      "0.6\n",
      "              precision    recall  f1-score   support\n",
      "\n",
      "   BedroomCC       0.65      0.77      0.71        22\n",
      "   BedroomJK       0.83      0.87      0.85        23\n",
      "    BedroomS       0.62      0.65      0.64        23\n",
      "  DiningRoom       0.59      0.33      0.43        30\n",
      "    Hallway0       0.45      0.52      0.48        25\n",
      "    Hallway1       0.26      0.35      0.30        26\n",
      "    Hallway2       0.50      0.40      0.44        25\n",
      "     Kitchen       0.50      0.65      0.56        17\n",
      "  LivingRoom       0.83      0.74      0.78        61\n",
      "      Office       0.75      0.82      0.78        22\n",
      "    Playroom       0.38      0.38      0.38        16\n",
      "\n",
      "    accuracy                           0.60       290\n",
      "   macro avg       0.58      0.59      0.58       290\n",
      "weighted avg       0.61      0.60      0.60       290\n",
      "\n"
     ]
    },
    {
     "data": {
      "text/plain": [
       "<Axes: >"
      ]
     },
     "execution_count": 137,
     "metadata": {},
     "output_type": "execute_result"
    },
    {
     "data": {
      "image/png": "[encoded data removed]",
      "text/plain": [
       "<Figure size 640x480 with 1 Axes>"
      ]
     },
     "metadata": {},
     "output_type": "display_data"
    }
   ],
   "source": [
    "from sklearn.model_selection import train_test_split\n",
    "from sklearn.metrics import confusion_matrix, classification_report\n",
    "\n",
    "X_train, X_test, y_train, y_test = train_test_split(X, y, random_state=0)\n",
    "\n",
    "lr.fit(X_train, y_train)\n",
    "print(lr.score(X_test, y_test))\n",
    "\n",
    "y_pred = lr.predict(X_test)\n",
    "print(classification_report(y_test, y_pred))\n",
    "sns.heatmap(\n",
    "    data=confusion_matrix(y_test, y_pred),\n",
    "    annot=True, fmt='d', cbar=False, square=True,\n",
    "    linecolor='white', linewidths=0.5, cmap='Blues',\n",
    "    xticklabels=lr.classes_,\n",
    "    yticklabels=lr.classes_,\n",
    ")"
   ]
  },
  {
   "cell_type": "code",
   "execution_count": 178,
   "metadata": {},
   "outputs": [
    {
     "name": "stdout",
     "output_type": "stream",
     "text": [
      "0.6241379310344828\n"
     ]
    }
   ],
   "source": [
    "lr.fit(X, y)\n",
    "print(lr.score(X_test, y_test))"
   ]
  },
  {
   "cell_type": "code",
   "execution_count": 177,
   "metadata": {},
   "outputs": [
    {
     "name": "stdout",
     "output_type": "stream",
     "text": [
      "- name: \"ESPresense-ML iPhoneJD Prediction Class\"\n",
      "  unique_id: espresense-ml_iphonejd_predictionclass\n",
      "  state: >\n",
      "    {% set classes = ['BedroomCC', 'BedroomJK', 'BedroomS', 'DiningRoom', 'Hallway0', 'Hallway1', 'Hallway2', 'Kitchen', 'LivingRoom', 'Office', 'Playroom'] %}\n",
      "    {% set x1 = states('sensor.mqtt_iphonejd_bedroomcc_raw') | float %}\n",
      "    {% set x2 = states('sensor.mqtt_iphonejd_bedroomjk_raw') | float %}\n",
      "    {% set x3 = states('sensor.mqtt_iphonejd_bedrooms_raw') | float %}\n",
      "    {% set logits = [\n",
      "\t-7.21666117 + x1 * -2.00739861 + x2 * 2.20753011 + x3 * 1.62899311, \n",
      "\t6.00869394 + x1 * -3.92621473 + x2 * 0.02780705 + x3 * 1.30374058, \n",
      "\t-6.58901218 + x1 * -0.69330269 + x2 * 1.56390339 + x3 * 1.50687492, \n",
      "\t-5.11943351 + x1 * 1.56616396 + x2 * 0.14506183 + x3 * 0.58613636, \n",
      "\t2.2087707 + x1 * 1.5404078 + x2 * -0.18083526 + x3 * -1.73506279, \n",
      "\t4.58455542 + x1 * 0.8908334 + x2 * -1.86802895 + x3 * -0.04556443, \n",
      "\t5.47424413 + x1 * -2.05891012 + x2 * 0.14588166 + x3 * 0.78526619, \n",
      "\t-10.39307357 + x1 * 1.75026682 + x2 * 0.42552962 + x3 * 1.30903131, \n",
      "\t9.88870502 + x1 * -0.65884027 + x2 * -2.18745218 + x3 * 0.02170541, \n",
      "\t8.45463419 + x1 * 1.35473099 + x2 * -0.67196647 + x3 * -5.2198266, \n",
      "\t-7.30142297 + x1 * 2.24226345 + x2 * 0.39256921 + x3 * -0.14129407] %}\n",
      "    {{classes[logits.index(logits | max)]}}\n"
     ]
    }
   ],
   "source": [
    "def write_yaml(coef, intercept, classes, device):\n",
    "    x_variables = '\\n    '.join(\n",
    "        [f\"{{% set x{i+1} = states('sensor.mqtt_{device.lower()}_{classes[i].lower()}_raw') | float %}}\"\n",
    "         for i in range(coef.shape[1])])\n",
    "    logits = ', '.join(\n",
    "        [f\"\\n\\t{intercept[i].round(8)} \" + ' '.join(\n",
    "        [f\"+ x{j+1} * {coef[i, j].round(8)}\"\n",
    "         for j in range(coef.shape[1])])\n",
    "         for i in range(len(classes))])\n",
    "    return f\"\"\"- name: \"ESPresense-ML {device} Prediction Class\"\n",
    "  unique_id: espresense-ml_{device.lower()}_predictionclass\n",
    "  state: >\n",
    "    {{% set classes = {str(classes.tolist())} %}}\n",
    "    {x_variables}\n",
    "    {{% set logits = [{logits}] %}}\n",
    "    {{{{classes[logits.index(logits | max)]}}}}\"\"\"\n",
    "\n",
    "print(write_yaml(lr.coef_, lr.intercept_, lr.classes_, 'iPhoneJD'))"
   ]
  },
  {
   "cell_type": "code",
   "execution_count": 182,
   "metadata": {},
   "outputs": [
    {
     "name": "stdout",
     "output_type": "stream",
     "text": [
      "Connected with result code 0\n",
      "Class: BedroomJK, Probability: 0.5204865318464751\n",
      "Class: BedroomJK, Probability: 0.8633151279800031\n",
      "Class: Hallway2, Probability: 0.7412604297826576\n",
      "Class: Hallway2, Probability: 0.7766717532382585\n",
      "Class: Hallway2, Probability: 0.7559388842811804\n",
      "Class: Hallway2, Probability: 0.7559388842811804\n",
      "Class: Hallway2, Probability: 0.725667439674693\n",
      "Class: LivingRoom, Probability: 0.5716624611624336\n",
      "Class: LivingRoom, Probability: 0.677616770410229\n",
      "Class: LivingRoom, Probability: 0.6973321038024967\n",
      "Class: LivingRoom, Probability: 0.71963391058793\n",
      "Class: Hallway1, Probability: 0.40776573495460877\n",
      "Class: Hallway1, Probability: 0.40776573495460877\n",
      "Class: Hallway1, Probability: 0.3731902966373693\n",
      "Class: LivingRoom, Probability: 0.6082709341199761\n",
      "Class: LivingRoom, Probability: 0.5960068203611594\n",
      "Class: LivingRoom, Probability: 0.6789861207194339\n",
      "Class: LivingRoom, Probability: 0.7585337067887605\n",
      "Class: LivingRoom, Probability: 0.7199720041202265\n",
      "Class: LivingRoom, Probability: 0.5156170071565931\n",
      "Class: LivingRoom, Probability: 0.4789596388748629\n",
      "Class: LivingRoom, Probability: 0.4789596388748629\n",
      "Class: LivingRoom, Probability: 0.6997608071268279\n",
      "Class: LivingRoom, Probability: 0.674274573713758\n",
      "Class: LivingRoom, Probability: 0.620168190421522\n",
      "Class: Hallway2, Probability: 0.4192166195327663\n",
      "Class: LivingRoom, Probability: 0.4586963697914153\n",
      "Class: LivingRoom, Probability: 0.5745521330111701\n",
      "Class: LivingRoom, Probability: 0.7532398777340172\n",
      "Class: LivingRoom, Probability: 0.5315055980497208\n"
     ]
    },
    {
     "ename": "KeyboardInterrupt",
     "evalue": "",
     "output_type": "error",
     "traceback": [
      "\u001b[0;31m---------------------------------------------------------------------------\u001b[0m",
      "\u001b[0;31mKeyboardInterrupt\u001b[0m                         Traceback (most recent call last)",
      "Cell \u001b[0;32mIn[182], line 32\u001b[0m\n\u001b[1;32m     30\u001b[0m client\u001b[39m.\u001b[39mon_message \u001b[39m=\u001b[39m on_message\n\u001b[1;32m     31\u001b[0m client\u001b[39m.\u001b[39mconnect(\u001b[39m\"\u001b[39m\u001b[39m192.168.50.134\u001b[39m\u001b[39m\"\u001b[39m, \u001b[39m1883\u001b[39m, \u001b[39m60\u001b[39m)\n\u001b[0;32m---> 32\u001b[0m client\u001b[39m.\u001b[39;49mloop_forever()\n",
      "File \u001b[0;32m~/git/ESPresense-ml/venv/lib64/python3.11/site-packages/paho/mqtt/client.py:1756\u001b[0m, in \u001b[0;36mClient.loop_forever\u001b[0;34m(self, timeout, max_packets, retry_first_connection)\u001b[0m\n\u001b[1;32m   1754\u001b[0m rc \u001b[39m=\u001b[39m MQTT_ERR_SUCCESS\n\u001b[1;32m   1755\u001b[0m \u001b[39mwhile\u001b[39;00m rc \u001b[39m==\u001b[39m MQTT_ERR_SUCCESS:\n\u001b[0;32m-> 1756\u001b[0m     rc \u001b[39m=\u001b[39m \u001b[39mself\u001b[39;49m\u001b[39m.\u001b[39;49m_loop(timeout)\n\u001b[1;32m   1757\u001b[0m     \u001b[39m# We don't need to worry about locking here, because we've\u001b[39;00m\n\u001b[1;32m   1758\u001b[0m     \u001b[39m# either called loop_forever() when in single threaded mode, or\u001b[39;00m\n\u001b[1;32m   1759\u001b[0m     \u001b[39m# in multi threaded mode when loop_stop() has been called and\u001b[39;00m\n\u001b[1;32m   1760\u001b[0m     \u001b[39m# so no other threads can access _out_packet or _messages.\u001b[39;00m\n\u001b[1;32m   1761\u001b[0m     \u001b[39mif\u001b[39;00m (\u001b[39mself\u001b[39m\u001b[39m.\u001b[39m_thread_terminate \u001b[39mis\u001b[39;00m \u001b[39mTrue\u001b[39;00m\n\u001b[1;32m   1762\u001b[0m         \u001b[39mand\u001b[39;00m \u001b[39mlen\u001b[39m(\u001b[39mself\u001b[39m\u001b[39m.\u001b[39m_out_packet) \u001b[39m==\u001b[39m \u001b[39m0\u001b[39m\n\u001b[1;32m   1763\u001b[0m             \u001b[39mand\u001b[39;00m \u001b[39mlen\u001b[39m(\u001b[39mself\u001b[39m\u001b[39m.\u001b[39m_out_messages) \u001b[39m==\u001b[39m \u001b[39m0\u001b[39m):\n",
      "File \u001b[0;32m~/git/ESPresense-ml/venv/lib64/python3.11/site-packages/paho/mqtt/client.py:1150\u001b[0m, in \u001b[0;36mClient._loop\u001b[0;34m(self, timeout)\u001b[0m\n\u001b[1;32m   1147\u001b[0m     rlist \u001b[39m=\u001b[39m [\u001b[39mself\u001b[39m\u001b[39m.\u001b[39m_sock, \u001b[39mself\u001b[39m\u001b[39m.\u001b[39m_sockpairR]\n\u001b[1;32m   1149\u001b[0m \u001b[39mtry\u001b[39;00m:\n\u001b[0;32m-> 1150\u001b[0m     socklist \u001b[39m=\u001b[39m select\u001b[39m.\u001b[39mselect(rlist, wlist, [], timeout)\n\u001b[1;32m   1151\u001b[0m \u001b[39mexcept\u001b[39;00m \u001b[39mTypeError\u001b[39;00m:\n\u001b[1;32m   1152\u001b[0m     \u001b[39m# Socket isn't correct type, in likelihood connection is lost\u001b[39;00m\n\u001b[1;32m   1153\u001b[0m     \u001b[39mreturn\u001b[39;00m MQTT_ERR_CONN_LOST\n",
      "\u001b[0;31mKeyboardInterrupt\u001b[0m: "
     ]
    }
   ],
   "source": [
    "import paho.mqtt.client as mqtt\n",
    "import json\n",
    "\n",
    "verbose = False\n",
    "\n",
    "X_live = {\n",
    "    'espresense/devices/jd_iphone/bedroomjk': 0.,\n",
    "    'espresense/devices/jd_iphone/livingroom': 0.,\n",
    "    'espresense/devices/jd_iphone/office': 0.,\n",
    "}\n",
    "\n",
    "def on_connect(client, userdata, flags, rc):\n",
    "    print(\"Connected with result code \"+str(rc))\n",
    "    client.subscribe(\"espresense/devices/jd_iphone/bedroomjk\")\n",
    "    client.subscribe(\"espresense/devices/jd_iphone/office\")\n",
    "    client.subscribe(\"espresense/devices/jd_iphone/livingroom\")\n",
    "\n",
    "def on_message(client, userdata, msg):\n",
    "    data = json.loads(msg.payload)\n",
    "    if 'raw' in data:\n",
    "        X_live[msg.topic] = data['raw']\n",
    "        X = pd.DataFrame(\n",
    "            X_live.values(),\n",
    "            index=['MQTT iPhoneJD BedroomJK Raw', 'MQTT iPhoneJD LivingRoom Raw', 'MQTT iPhoneJD Office Raw']\n",
    "        ).T\n",
    "        pred = lr.predict_proba(X)[0]\n",
    "        pred_class, prob = lr.classes_[pred.argmax()], pred.max()\n",
    "        print(f\"Class: {pred_class}, Probability: {prob}\")\n",
    "\n",
    "client = mqtt.Client()\n",
    "client.username_pw_set(\"mqtt-user\", \"vlmSDF543\")\n",
    "client.on_connect = on_connect\n",
    "client.on_message = on_message\n",
    "client.connect(\"192.168.50.134\", 1883, 60)\n",
    "client.loop_forever()"
   ]
  }
 ],
 "metadata": {
  "kernelspec": {
   "display_name": "venv",
   "language": "python",
   "name": "python3"
  },
  "language_info": {
   "codemirror_mode": {
    "name": "ipython",
    "version": 3
   },
   "file_extension": ".py",
   "mimetype": "text/x-python",
   "name": "python",
   "nbconvert_exporter": "python",
   "pygments_lexer": "ipython3",
   "version": "3.11.3"
  },
  "orig_nbformat": 4
 },
 "nbformat": 4,
 "nbformat_minor": 2
}
